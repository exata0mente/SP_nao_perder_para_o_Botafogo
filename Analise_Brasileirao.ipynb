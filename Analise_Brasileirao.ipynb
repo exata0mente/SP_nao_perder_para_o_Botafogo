{
 "cells": [
  {
   "cell_type": "markdown",
   "id": "b4518606",
   "metadata": {},
   "source": [
    "# Bibliotecas"
   ]
  },
  {
   "cell_type": "code",
   "execution_count": 1,
   "id": "f3cc7f77",
   "metadata": {},
   "outputs": [],
   "source": [
    "import pandas as pd\n",
    "import numpy as np"
   ]
  },
  {
   "cell_type": "markdown",
   "id": "4a9623ce",
   "metadata": {},
   "source": [
    "# Obtenção da base de dados"
   ]
  },
  {
   "cell_type": "code",
   "execution_count": 2,
   "id": "d03df460",
   "metadata": {},
   "outputs": [],
   "source": [
    "url = 'https://www.football-data.co.uk/new/BRA.csv'\n",
    "dados = pd.read_csv(url)"
   ]
  },
  {
   "cell_type": "code",
   "execution_count": 3,
   "id": "867f6166",
   "metadata": {},
   "outputs": [
    {
     "data": {
      "text/html": [
       "<div>\n",
       "<style scoped>\n",
       "    .dataframe tbody tr th:only-of-type {\n",
       "        vertical-align: middle;\n",
       "    }\n",
       "\n",
       "    .dataframe tbody tr th {\n",
       "        vertical-align: top;\n",
       "    }\n",
       "\n",
       "    .dataframe thead th {\n",
       "        text-align: right;\n",
       "    }\n",
       "</style>\n",
       "<table border=\"1\" class=\"dataframe\">\n",
       "  <thead>\n",
       "    <tr style=\"text-align: right;\">\n",
       "      <th></th>\n",
       "      <th>Country</th>\n",
       "      <th>League</th>\n",
       "      <th>Season</th>\n",
       "      <th>Date</th>\n",
       "      <th>Time</th>\n",
       "      <th>Home</th>\n",
       "      <th>Away</th>\n",
       "      <th>HG</th>\n",
       "      <th>AG</th>\n",
       "      <th>Res</th>\n",
       "      <th>PH</th>\n",
       "      <th>PD</th>\n",
       "      <th>PA</th>\n",
       "      <th>MaxH</th>\n",
       "      <th>MaxD</th>\n",
       "      <th>MaxA</th>\n",
       "      <th>AvgH</th>\n",
       "      <th>AvgD</th>\n",
       "      <th>AvgA</th>\n",
       "    </tr>\n",
       "  </thead>\n",
       "  <tbody>\n",
       "    <tr>\n",
       "      <th>0</th>\n",
       "      <td>Brazil</td>\n",
       "      <td>Serie A</td>\n",
       "      <td>2012</td>\n",
       "      <td>19/05/2012</td>\n",
       "      <td>22:30</td>\n",
       "      <td>Palmeiras</td>\n",
       "      <td>Portuguesa</td>\n",
       "      <td>1.0</td>\n",
       "      <td>1.0</td>\n",
       "      <td>D</td>\n",
       "      <td>1.75</td>\n",
       "      <td>3.86</td>\n",
       "      <td>5.25</td>\n",
       "      <td>1.76</td>\n",
       "      <td>3.87</td>\n",
       "      <td>5.31</td>\n",
       "      <td>1.69</td>\n",
       "      <td>3.50</td>\n",
       "      <td>4.90</td>\n",
       "    </tr>\n",
       "    <tr>\n",
       "      <th>1</th>\n",
       "      <td>Brazil</td>\n",
       "      <td>Serie A</td>\n",
       "      <td>2012</td>\n",
       "      <td>19/05/2012</td>\n",
       "      <td>22:30</td>\n",
       "      <td>Sport Recife</td>\n",
       "      <td>Flamengo RJ</td>\n",
       "      <td>1.0</td>\n",
       "      <td>1.0</td>\n",
       "      <td>D</td>\n",
       "      <td>2.83</td>\n",
       "      <td>3.39</td>\n",
       "      <td>2.68</td>\n",
       "      <td>2.83</td>\n",
       "      <td>3.42</td>\n",
       "      <td>2.70</td>\n",
       "      <td>2.59</td>\n",
       "      <td>3.23</td>\n",
       "      <td>2.58</td>\n",
       "    </tr>\n",
       "    <tr>\n",
       "      <th>2</th>\n",
       "      <td>Brazil</td>\n",
       "      <td>Serie A</td>\n",
       "      <td>2012</td>\n",
       "      <td>20/05/2012</td>\n",
       "      <td>01:00</td>\n",
       "      <td>Figueirense</td>\n",
       "      <td>Nautico</td>\n",
       "      <td>2.0</td>\n",
       "      <td>1.0</td>\n",
       "      <td>H</td>\n",
       "      <td>1.60</td>\n",
       "      <td>4.04</td>\n",
       "      <td>6.72</td>\n",
       "      <td>1.67</td>\n",
       "      <td>4.05</td>\n",
       "      <td>7.22</td>\n",
       "      <td>1.59</td>\n",
       "      <td>3.67</td>\n",
       "      <td>5.64</td>\n",
       "    </tr>\n",
       "    <tr>\n",
       "      <th>3</th>\n",
       "      <td>Brazil</td>\n",
       "      <td>Serie A</td>\n",
       "      <td>2012</td>\n",
       "      <td>20/05/2012</td>\n",
       "      <td>20:00</td>\n",
       "      <td>Botafogo RJ</td>\n",
       "      <td>Sao Paulo</td>\n",
       "      <td>4.0</td>\n",
       "      <td>2.0</td>\n",
       "      <td>H</td>\n",
       "      <td>2.49</td>\n",
       "      <td>3.35</td>\n",
       "      <td>3.15</td>\n",
       "      <td>2.49</td>\n",
       "      <td>3.39</td>\n",
       "      <td>3.15</td>\n",
       "      <td>2.35</td>\n",
       "      <td>3.26</td>\n",
       "      <td>2.84</td>\n",
       "    </tr>\n",
       "    <tr>\n",
       "      <th>4</th>\n",
       "      <td>Brazil</td>\n",
       "      <td>Serie A</td>\n",
       "      <td>2012</td>\n",
       "      <td>20/05/2012</td>\n",
       "      <td>20:00</td>\n",
       "      <td>Corinthians</td>\n",
       "      <td>Fluminense</td>\n",
       "      <td>0.0</td>\n",
       "      <td>1.0</td>\n",
       "      <td>A</td>\n",
       "      <td>1.96</td>\n",
       "      <td>3.53</td>\n",
       "      <td>4.41</td>\n",
       "      <td>1.96</td>\n",
       "      <td>3.53</td>\n",
       "      <td>4.41</td>\n",
       "      <td>1.89</td>\n",
       "      <td>3.33</td>\n",
       "      <td>3.89</td>\n",
       "    </tr>\n",
       "  </tbody>\n",
       "</table>\n",
       "</div>"
      ],
      "text/plain": [
       "  Country   League  Season        Date   Time          Home         Away   HG  \\\n",
       "0  Brazil  Serie A    2012  19/05/2012  22:30     Palmeiras   Portuguesa  1.0   \n",
       "1  Brazil  Serie A    2012  19/05/2012  22:30  Sport Recife  Flamengo RJ  1.0   \n",
       "2  Brazil  Serie A    2012  20/05/2012  01:00   Figueirense      Nautico  2.0   \n",
       "3  Brazil  Serie A    2012  20/05/2012  20:00   Botafogo RJ    Sao Paulo  4.0   \n",
       "4  Brazil  Serie A    2012  20/05/2012  20:00   Corinthians   Fluminense  0.0   \n",
       "\n",
       "    AG Res    PH    PD    PA  MaxH  MaxD  MaxA  AvgH  AvgD  AvgA  \n",
       "0  1.0   D  1.75  3.86  5.25  1.76  3.87  5.31  1.69  3.50  4.90  \n",
       "1  1.0   D  2.83  3.39  2.68  2.83  3.42  2.70  2.59  3.23  2.58  \n",
       "2  1.0   H  1.60  4.04  6.72  1.67  4.05  7.22  1.59  3.67  5.64  \n",
       "3  2.0   H  2.49  3.35  3.15  2.49  3.39  3.15  2.35  3.26  2.84  \n",
       "4  1.0   A  1.96  3.53  4.41  1.96  3.53  4.41  1.89  3.33  3.89  "
      ]
     },
     "execution_count": 3,
     "metadata": {},
     "output_type": "execute_result"
    }
   ],
   "source": [
    "dados.head()"
   ]
  },
  {
   "cell_type": "code",
   "execution_count": 4,
   "id": "148cc3c4",
   "metadata": {},
   "outputs": [
    {
     "data": {
      "text/plain": [
       "Index(['Country', 'League', 'Season', 'Date', 'Time', 'Home', 'Away', 'HG',\n",
       "       'AG', 'Res', 'PH', 'PD', 'PA', 'MaxH', 'MaxD', 'MaxA', 'AvgH', 'AvgD',\n",
       "       'AvgA'],\n",
       "      dtype='object')"
      ]
     },
     "execution_count": 4,
     "metadata": {},
     "output_type": "execute_result"
    }
   ],
   "source": [
    "dados.columns"
   ]
  },
  {
   "cell_type": "markdown",
   "id": "20d7c2e6",
   "metadata": {},
   "source": [
    "As colunas após a coluna 'Res' referen-se a probabilidades de sites de apostas. Para este estudo não são importantes, logo as descartarei"
   ]
  },
  {
   "cell_type": "code",
   "execution_count": 5,
   "id": "de9c1f0c",
   "metadata": {},
   "outputs": [],
   "source": [
    "dados = dados.loc[:,'Country':'Res']"
   ]
  },
  {
   "cell_type": "markdown",
   "id": "6f81ae48",
   "metadata": {},
   "source": [
    "## Tradução dos conteúdos"
   ]
  },
  {
   "cell_type": "code",
   "execution_count": 6,
   "id": "4765c45e",
   "metadata": {},
   "outputs": [],
   "source": [
    "traducao = {\n",
    "    'Country': 'pais', \n",
    "    'League': 'campeonato', \n",
    "    'Season': 'temporada',\n",
    "    'Date': 'data_partida',\n",
    "    'Time': 'hora_partida',\n",
    "    'Home': 'time_mandante',\n",
    "    'Away': 'time_visitante',\n",
    "    'HG': 'gols_mandante',\n",
    "    'AG': 'gols_visitante',\n",
    "    'Res': 'resultado'\n",
    "}"
   ]
  },
  {
   "cell_type": "code",
   "execution_count": 7,
   "id": "ff8e7bfe",
   "metadata": {},
   "outputs": [],
   "source": [
    "dados.rename(columns=traducao, inplace=True)"
   ]
  },
  {
   "cell_type": "code",
   "execution_count": 8,
   "id": "033a5ff3",
   "metadata": {},
   "outputs": [
    {
     "data": {
      "text/html": [
       "<div>\n",
       "<style scoped>\n",
       "    .dataframe tbody tr th:only-of-type {\n",
       "        vertical-align: middle;\n",
       "    }\n",
       "\n",
       "    .dataframe tbody tr th {\n",
       "        vertical-align: top;\n",
       "    }\n",
       "\n",
       "    .dataframe thead th {\n",
       "        text-align: right;\n",
       "    }\n",
       "</style>\n",
       "<table border=\"1\" class=\"dataframe\">\n",
       "  <thead>\n",
       "    <tr style=\"text-align: right;\">\n",
       "      <th></th>\n",
       "      <th>pais</th>\n",
       "      <th>campeonato</th>\n",
       "      <th>temporada</th>\n",
       "      <th>data_partida</th>\n",
       "      <th>hora_partida</th>\n",
       "      <th>time_mandante</th>\n",
       "      <th>time_visitante</th>\n",
       "      <th>gols_mandante</th>\n",
       "      <th>gols_visitante</th>\n",
       "      <th>resultado</th>\n",
       "    </tr>\n",
       "  </thead>\n",
       "  <tbody>\n",
       "    <tr>\n",
       "      <th>0</th>\n",
       "      <td>Brazil</td>\n",
       "      <td>Serie A</td>\n",
       "      <td>2012</td>\n",
       "      <td>19/05/2012</td>\n",
       "      <td>22:30</td>\n",
       "      <td>Palmeiras</td>\n",
       "      <td>Portuguesa</td>\n",
       "      <td>1.0</td>\n",
       "      <td>1.0</td>\n",
       "      <td>D</td>\n",
       "    </tr>\n",
       "    <tr>\n",
       "      <th>1</th>\n",
       "      <td>Brazil</td>\n",
       "      <td>Serie A</td>\n",
       "      <td>2012</td>\n",
       "      <td>19/05/2012</td>\n",
       "      <td>22:30</td>\n",
       "      <td>Sport Recife</td>\n",
       "      <td>Flamengo RJ</td>\n",
       "      <td>1.0</td>\n",
       "      <td>1.0</td>\n",
       "      <td>D</td>\n",
       "    </tr>\n",
       "    <tr>\n",
       "      <th>2</th>\n",
       "      <td>Brazil</td>\n",
       "      <td>Serie A</td>\n",
       "      <td>2012</td>\n",
       "      <td>20/05/2012</td>\n",
       "      <td>01:00</td>\n",
       "      <td>Figueirense</td>\n",
       "      <td>Nautico</td>\n",
       "      <td>2.0</td>\n",
       "      <td>1.0</td>\n",
       "      <td>H</td>\n",
       "    </tr>\n",
       "    <tr>\n",
       "      <th>3</th>\n",
       "      <td>Brazil</td>\n",
       "      <td>Serie A</td>\n",
       "      <td>2012</td>\n",
       "      <td>20/05/2012</td>\n",
       "      <td>20:00</td>\n",
       "      <td>Botafogo RJ</td>\n",
       "      <td>Sao Paulo</td>\n",
       "      <td>4.0</td>\n",
       "      <td>2.0</td>\n",
       "      <td>H</td>\n",
       "    </tr>\n",
       "    <tr>\n",
       "      <th>4</th>\n",
       "      <td>Brazil</td>\n",
       "      <td>Serie A</td>\n",
       "      <td>2012</td>\n",
       "      <td>20/05/2012</td>\n",
       "      <td>20:00</td>\n",
       "      <td>Corinthians</td>\n",
       "      <td>Fluminense</td>\n",
       "      <td>0.0</td>\n",
       "      <td>1.0</td>\n",
       "      <td>A</td>\n",
       "    </tr>\n",
       "  </tbody>\n",
       "</table>\n",
       "</div>"
      ],
      "text/plain": [
       "     pais campeonato  temporada data_partida hora_partida time_mandante  \\\n",
       "0  Brazil    Serie A       2012   19/05/2012        22:30     Palmeiras   \n",
       "1  Brazil    Serie A       2012   19/05/2012        22:30  Sport Recife   \n",
       "2  Brazil    Serie A       2012   20/05/2012        01:00   Figueirense   \n",
       "3  Brazil    Serie A       2012   20/05/2012        20:00   Botafogo RJ   \n",
       "4  Brazil    Serie A       2012   20/05/2012        20:00   Corinthians   \n",
       "\n",
       "  time_visitante  gols_mandante  gols_visitante resultado  \n",
       "0     Portuguesa            1.0             1.0         D  \n",
       "1    Flamengo RJ            1.0             1.0         D  \n",
       "2        Nautico            2.0             1.0         H  \n",
       "3      Sao Paulo            4.0             2.0         H  \n",
       "4     Fluminense            0.0             1.0         A  "
      ]
     },
     "execution_count": 8,
     "metadata": {},
     "output_type": "execute_result"
    }
   ],
   "source": [
    "dados.head()"
   ]
  },
  {
   "cell_type": "markdown",
   "id": "9a6721f2",
   "metadata": {},
   "source": [
    "A coluna Resultado tem a seguinte lógica: SE o mandante ganhar então H, se o visitante ganhar então A senão D. Como meu objeto de estudo é o São Paulo FC contra o Botafogo S/A, a minha referência será sempre o meu time"
   ]
  },
  {
   "cell_type": "markdown",
   "id": "1e2681dc",
   "metadata": {},
   "source": [
    "## Separando a base de estudo"
   ]
  },
  {
   "cell_type": "code",
   "execution_count": 9,
   "id": "cb7fca99",
   "metadata": {},
   "outputs": [
    {
     "data": {
      "text/html": [
       "<div>\n",
       "<style scoped>\n",
       "    .dataframe tbody tr th:only-of-type {\n",
       "        vertical-align: middle;\n",
       "    }\n",
       "\n",
       "    .dataframe tbody tr th {\n",
       "        vertical-align: top;\n",
       "    }\n",
       "\n",
       "    .dataframe thead th {\n",
       "        text-align: right;\n",
       "    }\n",
       "</style>\n",
       "<table border=\"1\" class=\"dataframe\">\n",
       "  <thead>\n",
       "    <tr style=\"text-align: right;\">\n",
       "      <th></th>\n",
       "      <th>pais</th>\n",
       "      <th>campeonato</th>\n",
       "      <th>temporada</th>\n",
       "      <th>data_partida</th>\n",
       "      <th>hora_partida</th>\n",
       "      <th>time_mandante</th>\n",
       "      <th>time_visitante</th>\n",
       "      <th>gols_mandante</th>\n",
       "      <th>gols_visitante</th>\n",
       "      <th>resultado</th>\n",
       "    </tr>\n",
       "  </thead>\n",
       "  <tbody>\n",
       "    <tr>\n",
       "      <th>3</th>\n",
       "      <td>Brazil</td>\n",
       "      <td>Serie A</td>\n",
       "      <td>2012</td>\n",
       "      <td>20/05/2012</td>\n",
       "      <td>20:00</td>\n",
       "      <td>Botafogo RJ</td>\n",
       "      <td>Sao Paulo</td>\n",
       "      <td>4.0</td>\n",
       "      <td>2.0</td>\n",
       "      <td>H</td>\n",
       "    </tr>\n",
       "    <tr>\n",
       "      <th>198</th>\n",
       "      <td>Brazil</td>\n",
       "      <td>Serie A</td>\n",
       "      <td>2012</td>\n",
       "      <td>31/08/2012</td>\n",
       "      <td>01:00</td>\n",
       "      <td>Sao Paulo</td>\n",
       "      <td>Botafogo RJ</td>\n",
       "      <td>4.0</td>\n",
       "      <td>0.0</td>\n",
       "      <td>H</td>\n",
       "    </tr>\n",
       "    <tr>\n",
       "      <th>541</th>\n",
       "      <td>Brazil</td>\n",
       "      <td>Serie A</td>\n",
       "      <td>2013</td>\n",
       "      <td>01/09/2013</td>\n",
       "      <td>20:00</td>\n",
       "      <td>Botafogo RJ</td>\n",
       "      <td>Sao Paulo</td>\n",
       "      <td>0.0</td>\n",
       "      <td>0.0</td>\n",
       "      <td>D</td>\n",
       "    </tr>\n",
       "    <tr>\n",
       "      <th>739</th>\n",
       "      <td>Brazil</td>\n",
       "      <td>Serie A</td>\n",
       "      <td>2013</td>\n",
       "      <td>24/11/2013</td>\n",
       "      <td>21:30</td>\n",
       "      <td>Sao Paulo</td>\n",
       "      <td>Botafogo RJ</td>\n",
       "      <td>1.0</td>\n",
       "      <td>1.0</td>\n",
       "      <td>D</td>\n",
       "    </tr>\n",
       "    <tr>\n",
       "      <th>766</th>\n",
       "      <td>Brazil</td>\n",
       "      <td>Serie A</td>\n",
       "      <td>2014</td>\n",
       "      <td>20/04/2014</td>\n",
       "      <td>20:00</td>\n",
       "      <td>Sao Paulo</td>\n",
       "      <td>Botafogo RJ</td>\n",
       "      <td>3.0</td>\n",
       "      <td>0.0</td>\n",
       "      <td>H</td>\n",
       "    </tr>\n",
       "  </tbody>\n",
       "</table>\n",
       "</div>"
      ],
      "text/plain": [
       "       pais campeonato  temporada data_partida hora_partida time_mandante  \\\n",
       "3    Brazil    Serie A       2012   20/05/2012        20:00   Botafogo RJ   \n",
       "198  Brazil    Serie A       2012   31/08/2012        01:00     Sao Paulo   \n",
       "541  Brazil    Serie A       2013   01/09/2013        20:00   Botafogo RJ   \n",
       "739  Brazil    Serie A       2013   24/11/2013        21:30     Sao Paulo   \n",
       "766  Brazil    Serie A       2014   20/04/2014        20:00     Sao Paulo   \n",
       "\n",
       "    time_visitante  gols_mandante  gols_visitante resultado  \n",
       "3        Sao Paulo            4.0             2.0         H  \n",
       "198    Botafogo RJ            4.0             0.0         H  \n",
       "541      Sao Paulo            0.0             0.0         D  \n",
       "739    Botafogo RJ            1.0             1.0         D  \n",
       "766    Botafogo RJ            3.0             0.0         H  "
      ]
     },
     "execution_count": 9,
     "metadata": {},
     "output_type": "execute_result"
    }
   ],
   "source": [
    "visitante = dados.time_visitante.isin(['Botafogo RJ', 'Sao Paulo']).values\n",
    "mandante = dados.time_mandante.isin(['Botafogo RJ', 'Sao Paulo']).values\n",
    "base_estudo = dados.loc[visitante & mandante].copy()\n",
    "base_estudo.head()"
   ]
  },
  {
   "cell_type": "markdown",
   "id": "da0afffd",
   "metadata": {},
   "source": [
    "Agora vou traduzir"
   ]
  },
  {
   "cell_type": "code",
   "execution_count": 10,
   "id": "e5cde171",
   "metadata": {},
   "outputs": [],
   "source": [
    "def resultado_jogo(x, time_target):\n",
    "    if x.resultado == 'D':\n",
    "        r = 'E'\n",
    "        p = 1\n",
    "    elif x.time_mandante == time_target and x.resultado == 'H':\n",
    "        r = 'V'\n",
    "        p = 3\n",
    "    elif x.time_visitante == time_target and x.resultado == 'A':\n",
    "        r = 'V'\n",
    "        p = 3\n",
    "    else:\n",
    "        r = 'D'\n",
    "        p = 0\n",
    "    return pd.Series([r, p])\n",
    "\n",
    "#def pontos_resultado_jogo(x, time_target)"
   ]
  },
  {
   "cell_type": "code",
   "execution_count": 11,
   "id": "e850cca5",
   "metadata": {
    "scrolled": true
   },
   "outputs": [],
   "source": [
    "base_estudo[['resultado_traduzido', 'pontos_ganhos']] = base_estudo.apply(resultado_jogo, args=('Sao Paulo',), axis=1)"
   ]
  },
  {
   "cell_type": "code",
   "execution_count": 12,
   "id": "6e0594b6",
   "metadata": {},
   "outputs": [],
   "source": [
    "base_estudo['mando'] = base_estudo['time_visitante'].apply(lambda x : 'Visitante' if x == 'Sao Paulo' else 'Mandante')"
   ]
  },
  {
   "cell_type": "code",
   "execution_count": 13,
   "id": "ddb3a885",
   "metadata": {},
   "outputs": [
    {
     "data": {
      "text/html": [
       "<div>\n",
       "<style scoped>\n",
       "    .dataframe tbody tr th:only-of-type {\n",
       "        vertical-align: middle;\n",
       "    }\n",
       "\n",
       "    .dataframe tbody tr th {\n",
       "        vertical-align: top;\n",
       "    }\n",
       "\n",
       "    .dataframe thead th {\n",
       "        text-align: right;\n",
       "    }\n",
       "</style>\n",
       "<table border=\"1\" class=\"dataframe\">\n",
       "  <thead>\n",
       "    <tr style=\"text-align: right;\">\n",
       "      <th></th>\n",
       "      <th>pais</th>\n",
       "      <th>campeonato</th>\n",
       "      <th>temporada</th>\n",
       "      <th>data_partida</th>\n",
       "      <th>hora_partida</th>\n",
       "      <th>time_mandante</th>\n",
       "      <th>time_visitante</th>\n",
       "      <th>gols_mandante</th>\n",
       "      <th>gols_visitante</th>\n",
       "      <th>resultado_traduzido</th>\n",
       "      <th>pontos_ganhos</th>\n",
       "      <th>mando</th>\n",
       "    </tr>\n",
       "  </thead>\n",
       "  <tbody>\n",
       "    <tr>\n",
       "      <th>3</th>\n",
       "      <td>Brazil</td>\n",
       "      <td>Serie A</td>\n",
       "      <td>2012</td>\n",
       "      <td>20/05/2012</td>\n",
       "      <td>20:00</td>\n",
       "      <td>Botafogo RJ</td>\n",
       "      <td>Sao Paulo</td>\n",
       "      <td>4.0</td>\n",
       "      <td>2.0</td>\n",
       "      <td>D</td>\n",
       "      <td>0</td>\n",
       "      <td>Visitante</td>\n",
       "    </tr>\n",
       "    <tr>\n",
       "      <th>198</th>\n",
       "      <td>Brazil</td>\n",
       "      <td>Serie A</td>\n",
       "      <td>2012</td>\n",
       "      <td>31/08/2012</td>\n",
       "      <td>01:00</td>\n",
       "      <td>Sao Paulo</td>\n",
       "      <td>Botafogo RJ</td>\n",
       "      <td>4.0</td>\n",
       "      <td>0.0</td>\n",
       "      <td>V</td>\n",
       "      <td>3</td>\n",
       "      <td>Mandante</td>\n",
       "    </tr>\n",
       "    <tr>\n",
       "      <th>541</th>\n",
       "      <td>Brazil</td>\n",
       "      <td>Serie A</td>\n",
       "      <td>2013</td>\n",
       "      <td>01/09/2013</td>\n",
       "      <td>20:00</td>\n",
       "      <td>Botafogo RJ</td>\n",
       "      <td>Sao Paulo</td>\n",
       "      <td>0.0</td>\n",
       "      <td>0.0</td>\n",
       "      <td>E</td>\n",
       "      <td>1</td>\n",
       "      <td>Visitante</td>\n",
       "    </tr>\n",
       "    <tr>\n",
       "      <th>739</th>\n",
       "      <td>Brazil</td>\n",
       "      <td>Serie A</td>\n",
       "      <td>2013</td>\n",
       "      <td>24/11/2013</td>\n",
       "      <td>21:30</td>\n",
       "      <td>Sao Paulo</td>\n",
       "      <td>Botafogo RJ</td>\n",
       "      <td>1.0</td>\n",
       "      <td>1.0</td>\n",
       "      <td>E</td>\n",
       "      <td>1</td>\n",
       "      <td>Mandante</td>\n",
       "    </tr>\n",
       "    <tr>\n",
       "      <th>766</th>\n",
       "      <td>Brazil</td>\n",
       "      <td>Serie A</td>\n",
       "      <td>2014</td>\n",
       "      <td>20/04/2014</td>\n",
       "      <td>20:00</td>\n",
       "      <td>Sao Paulo</td>\n",
       "      <td>Botafogo RJ</td>\n",
       "      <td>3.0</td>\n",
       "      <td>0.0</td>\n",
       "      <td>V</td>\n",
       "      <td>3</td>\n",
       "      <td>Mandante</td>\n",
       "    </tr>\n",
       "  </tbody>\n",
       "</table>\n",
       "</div>"
      ],
      "text/plain": [
       "       pais campeonato  temporada data_partida hora_partida time_mandante  \\\n",
       "3    Brazil    Serie A       2012   20/05/2012        20:00   Botafogo RJ   \n",
       "198  Brazil    Serie A       2012   31/08/2012        01:00     Sao Paulo   \n",
       "541  Brazil    Serie A       2013   01/09/2013        20:00   Botafogo RJ   \n",
       "739  Brazil    Serie A       2013   24/11/2013        21:30     Sao Paulo   \n",
       "766  Brazil    Serie A       2014   20/04/2014        20:00     Sao Paulo   \n",
       "\n",
       "    time_visitante  gols_mandante  gols_visitante resultado_traduzido  \\\n",
       "3        Sao Paulo            4.0             2.0                   D   \n",
       "198    Botafogo RJ            4.0             0.0                   V   \n",
       "541      Sao Paulo            0.0             0.0                   E   \n",
       "739    Botafogo RJ            1.0             1.0                   E   \n",
       "766    Botafogo RJ            3.0             0.0                   V   \n",
       "\n",
       "     pontos_ganhos      mando  \n",
       "3                0  Visitante  \n",
       "198              3   Mandante  \n",
       "541              1  Visitante  \n",
       "739              1   Mandante  \n",
       "766              3   Mandante  "
      ]
     },
     "execution_count": 13,
     "metadata": {},
     "output_type": "execute_result"
    }
   ],
   "source": [
    "base_estudo.drop(columns='resultado', inplace=True)\n",
    "base_estudo.head()"
   ]
  },
  {
   "cell_type": "markdown",
   "id": "9c590a44",
   "metadata": {},
   "source": [
    "# Descrevendo os dados"
   ]
  },
  {
   "cell_type": "markdown",
   "id": "6bc67785",
   "metadata": {},
   "source": [
    "## Resultados"
   ]
  },
  {
   "cell_type": "code",
   "execution_count": 14,
   "id": "3077937e",
   "metadata": {},
   "outputs": [
    {
     "data": {
      "text/plain": [
       "V    52.941176\n",
       "D    23.529412\n",
       "E    23.529412\n",
       "Name: resultado_traduzido, dtype: float64"
      ]
     },
     "execution_count": 14,
     "metadata": {},
     "output_type": "execute_result"
    }
   ],
   "source": [
    "base_estudo.resultado_traduzido.value_counts(normalize=True) * 100"
   ]
  },
  {
   "cell_type": "markdown",
   "id": "ba3259e2",
   "metadata": {},
   "source": [
    "No periodo foram 53% de vitórias, um aproveitamento até que bom"
   ]
  },
  {
   "cell_type": "code",
   "execution_count": 15,
   "id": "878b2ab7",
   "metadata": {},
   "outputs": [
    {
     "data": {
      "text/plain": [
       "mando      resultado_traduzido\n",
       "Mandante   V                      62.500000\n",
       "           E                      25.000000\n",
       "           D                      12.500000\n",
       "Visitante  V                      44.444444\n",
       "           D                      33.333333\n",
       "           E                      22.222222\n",
       "Name: resultado_traduzido, dtype: float64"
      ]
     },
     "execution_count": 15,
     "metadata": {},
     "output_type": "execute_result"
    }
   ],
   "source": [
    "base_estudo.groupby('mando').resultado_traduzido.value_counts(normalize=True) * 100"
   ]
  },
  {
   "cell_type": "markdown",
   "id": "dc0401a4",
   "metadata": {},
   "source": [
    "62,5% de vitórias como mandante e 44,4% como visitante. Ainda é um resultado muito bom!"
   ]
  },
  {
   "cell_type": "markdown",
   "id": "45f19eaf",
   "metadata": {},
   "source": [
    "## Pontos ganhos"
   ]
  },
  {
   "cell_type": "code",
   "execution_count": 16,
   "id": "74bc0d0d",
   "metadata": {},
   "outputs": [
    {
     "data": {
      "text/plain": [
       "60.78431372549019"
      ]
     },
     "execution_count": 16,
     "metadata": {},
     "output_type": "execute_result"
    }
   ],
   "source": [
    "base_estudo.pontos_ganhos.sum() / (base_estudo.shape[0] * 3) * 100"
   ]
  },
  {
   "cell_type": "markdown",
   "id": "b08e9706",
   "metadata": {},
   "source": [
    "60% de aproveitamento dos pontos disputados"
   ]
  },
  {
   "cell_type": "code",
   "execution_count": 17,
   "id": "cd4f60bf",
   "metadata": {},
   "outputs": [
    {
     "data": {
      "text/plain": [
       "mando\n",
       "Mandante     70.833333\n",
       "Visitante    51.851852\n",
       "Name: pontos_ganhos, dtype: float64"
      ]
     },
     "execution_count": 17,
     "metadata": {},
     "output_type": "execute_result"
    }
   ],
   "source": [
    "base_estudo.groupby('mando').pontos_ganhos.sum() / (base_estudo.groupby('mando').pontos_ganhos.count()*3) * 100"
   ]
  },
  {
   "cell_type": "markdown",
   "id": "840e917e",
   "metadata": {},
   "source": [
    "Impressionantes 71% de aproveitamento dos pontos em casa e 51% de aproveitamento dos pontos fora de casa"
   ]
  },
  {
   "cell_type": "markdown",
   "id": "00b0b858",
   "metadata": {},
   "source": [
    "## Resultados ao longo das temporadas"
   ]
  },
  {
   "cell_type": "code",
   "execution_count": 18,
   "id": "68f52422",
   "metadata": {},
   "outputs": [],
   "source": [
    "import seaborn as sns\n",
    "import matplotlib.pyplot as plt"
   ]
  },
  {
   "cell_type": "code",
   "execution_count": 19,
   "id": "6b3cc100",
   "metadata": {},
   "outputs": [],
   "source": [
    "cores_sao_paulo = [\"#FE0000\", \"#000000\", \"#808080\"]\n",
    "paleta_cores_sao_paulo = sns.set_palette(sns.color_palette(cores_sao_paulo))"
   ]
  },
  {
   "cell_type": "code",
   "execution_count": 20,
   "id": "5f08a56f",
   "metadata": {},
   "outputs": [],
   "source": [
    "# Inserir gráficos de série temporal"
   ]
  }
 ],
 "metadata": {
  "kernelspec": {
   "display_name": "Python 3",
   "language": "python",
   "name": "python3"
  },
  "language_info": {
   "codemirror_mode": {
    "name": "ipython",
    "version": 3
   },
   "file_extension": ".py",
   "mimetype": "text/x-python",
   "name": "python",
   "nbconvert_exporter": "python",
   "pygments_lexer": "ipython3",
   "version": "3.8.8"
  }
 },
 "nbformat": 4,
 "nbformat_minor": 5
}
